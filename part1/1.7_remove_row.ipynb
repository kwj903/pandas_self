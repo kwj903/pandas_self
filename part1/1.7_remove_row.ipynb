{
 "cells": [
  {
   "cell_type": "code",
   "execution_count": 1,
   "id": "9448a050",
   "metadata": {},
   "outputs": [],
   "source": [
    "import pandas as pd"
   ]
  },
  {
   "cell_type": "markdown",
   "id": "07342752",
   "metadata": {},
   "source": [
    "# DataFrame() 함수로 데이터프레임 변환, 변수 df에 저장"
   ]
  },
  {
   "cell_type": "code",
   "execution_count": 5,
   "id": "53042d95",
   "metadata": {},
   "outputs": [
    {
     "name": "stdout",
     "output_type": "stream",
     "text": [
      "    수학  영어   음악   체육\n",
      "서준  90  98   85  100\n",
      "우현  80  89   95   90\n",
      "인아  70  95  100   90\n"
     ]
    }
   ],
   "source": [
    "exam_data = {'수학' : [90, 80, 70], '영어' : [98, 89, 95], '음악' : [85, 95, 100], '체육' : [100, 90, 90]}\n",
    "\n",
    "df = pd.DataFrame(exam_data, index=['서준', '우현', '인아'])\n",
    "print(df)"
   ]
  },
  {
   "cell_type": "markdown",
   "id": "fccf90d3",
   "metadata": {},
   "source": [
    "# 데이터프레임 df를 복제하여 변수 df2에 저장, df2의 1개 행(row) 삭제"
   ]
  },
  {
   "cell_type": "code",
   "execution_count": 7,
   "id": "3d1f0d5d",
   "metadata": {},
   "outputs": [
    {
     "name": "stdout",
     "output_type": "stream",
     "text": [
      "    수학  영어   음악   체육\n",
      "서준  90  98   85  100\n",
      "인아  70  95  100   90\n"
     ]
    }
   ],
   "source": [
    "df2 =df.copy()\n",
    "df2 = df2.drop('우현', axis=0)\n",
    "print(df2)"
   ]
  },
  {
   "cell_type": "markdown",
   "id": "88cc85f1",
   "metadata": {},
   "source": [
    "# 데이터프레임 df를 복제하여 변수 df3에 저장. df3의 2개 행(row) 삭제"
   ]
  },
  {
   "cell_type": "code",
   "execution_count": 8,
   "id": "b01c85a3",
   "metadata": {},
   "outputs": [
    {
     "name": "stdout",
     "output_type": "stream",
     "text": [
      "    수학  영어  음악   체육\n",
      "서준  90  98  85  100\n"
     ]
    }
   ],
   "source": [
    "df3 = df.copy()\n",
    "df3 = df3.drop(['우현', '인아'], axis=0)\n",
    "print(df3)"
   ]
  },
  {
   "cell_type": "markdown",
   "id": "35b16407",
   "metadata": {},
   "source": [
    "# 데이터프레임 df를 복제하여 변수 df4에 저장. df4의 2개 행(row) 삭제"
   ]
  },
  {
   "cell_type": "code",
   "execution_count": 9,
   "id": "1df515e2",
   "metadata": {},
   "outputs": [
    {
     "name": "stdout",
     "output_type": "stream",
     "text": [
      "    수학  영어  음악   체육\n",
      "서준  90  98  85  100\n"
     ]
    }
   ],
   "source": [
    "df4 = df.copy()\n",
    "df4 = df4.drop(['우현', '인아'], axis='index')\n",
    "print(df4)"
   ]
  },
  {
   "cell_type": "markdown",
   "id": "d2a615aa",
   "metadata": {},
   "source": [
    "# 데이터프레임 df를 복제하여 변수 df5에 저장. df5의 1개 행(row) 삭제"
   ]
  },
  {
   "cell_type": "code",
   "execution_count": 10,
   "id": "793b8d4f",
   "metadata": {},
   "outputs": [
    {
     "name": "stdout",
     "output_type": "stream",
     "text": [
      "    수학  영어   음악   체육\n",
      "서준  90  98   85  100\n",
      "인아  70  95  100   90\n"
     ]
    }
   ],
   "source": [
    "df5 = df.copy()\n",
    "df5 = df5.drop(index=['우현'])\n",
    "print(df5)"
   ]
  },
  {
   "cell_type": "code",
   "execution_count": null,
   "id": "14a400f3",
   "metadata": {},
   "outputs": [],
   "source": []
  }
 ],
 "metadata": {
  "kernelspec": {
   "display_name": ".venv",
   "language": "python",
   "name": "python3"
  },
  "language_info": {
   "codemirror_mode": {
    "name": "ipython",
    "version": 3
   },
   "file_extension": ".py",
   "mimetype": "text/x-python",
   "name": "python",
   "nbconvert_exporter": "python",
   "pygments_lexer": "ipython3",
   "version": "3.13.2"
  }
 },
 "nbformat": 4,
 "nbformat_minor": 5
}
