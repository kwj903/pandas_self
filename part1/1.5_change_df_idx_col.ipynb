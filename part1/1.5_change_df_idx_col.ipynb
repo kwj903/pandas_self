{
 "cells": [
  {
   "cell_type": "code",
   "execution_count": 1,
   "id": "cde7527e",
   "metadata": {},
   "outputs": [],
   "source": [
    "import pandas as pd"
   ]
  },
  {
   "cell_type": "markdown",
   "id": "36641b3d",
   "metadata": {},
   "source": [
    "# 행 인덱스/열 이름 지정하여, 데이터프레임 만들기"
   ]
  },
  {
   "cell_type": "code",
   "execution_count": 3,
   "id": "4a93b91a",
   "metadata": {},
   "outputs": [],
   "source": [
    "df = pd.DataFrame([[15, '남', '덕영중'], [17, '여', '수리중']],\n",
    "                  index=['준서', '예은'],\n",
    "                  columns=['나이', '성별', '학교'])"
   ]
  },
  {
   "cell_type": "markdown",
   "id": "87e33427",
   "metadata": {},
   "source": [
    "# 데이터프레임 출력하기"
   ]
  },
  {
   "cell_type": "code",
   "execution_count": 5,
   "id": "1566c0df",
   "metadata": {},
   "outputs": [
    {
     "name": "stdout",
     "output_type": "stream",
     "text": [
      "    나이 성별   학교\n",
      "준서  15  남  덕영중\n",
      "예은  17  여  수리중\n"
     ]
    }
   ],
   "source": [
    "print(df)"
   ]
  },
  {
   "cell_type": "markdown",
   "id": "ed99d8e8",
   "metadata": {},
   "source": [
    "# 행 인덱스 확인하기"
   ]
  },
  {
   "cell_type": "code",
   "execution_count": 6,
   "id": "6f6cc5af",
   "metadata": {},
   "outputs": [
    {
     "name": "stdout",
     "output_type": "stream",
     "text": [
      "Index(['준서', '예은'], dtype='object')\n"
     ]
    }
   ],
   "source": [
    "print(df.index)"
   ]
  },
  {
   "cell_type": "markdown",
   "id": "3e5cb355",
   "metadata": {},
   "source": [
    "# 열 이름 확인하기"
   ]
  },
  {
   "cell_type": "code",
   "execution_count": 7,
   "id": "9631ed53",
   "metadata": {},
   "outputs": [
    {
     "name": "stdout",
     "output_type": "stream",
     "text": [
      "Index(['나이', '성별', '학교'], dtype='object')\n"
     ]
    }
   ],
   "source": [
    "print(df.columns)"
   ]
  },
  {
   "cell_type": "markdown",
   "id": "79c02e03",
   "metadata": {},
   "source": [
    "# 행 인덱스, 열 이름 변경하기"
   ]
  },
  {
   "cell_type": "code",
   "execution_count": 8,
   "id": "a9b64961",
   "metadata": {},
   "outputs": [
    {
     "name": "stdout",
     "output_type": "stream",
     "text": [
      "     연령 남녀   소속\n",
      "학생1  15  남  덕영중\n",
      "학생2  17  여  수리중\n",
      "\n",
      "\n",
      "Index(['학생1', '학생2'], dtype='object')\n",
      "\n",
      "\n",
      "Index(['연령', '남녀', '소속'], dtype='object')\n"
     ]
    }
   ],
   "source": [
    "df.index = ['학생1', '학생2']\n",
    "df.columns = ['연령', '남녀', '소속']\n",
    "\n",
    "print(df)\n",
    "print('\\n')\n",
    "print(df.index)\n",
    "print('\\n')\n",
    "print(df.columns)"
   ]
  },
  {
   "cell_type": "code",
   "execution_count": null,
   "id": "e4744d50",
   "metadata": {},
   "outputs": [],
   "source": []
  }
 ],
 "metadata": {
  "kernelspec": {
   "display_name": "pandas_self",
   "language": "python",
   "name": "python3"
  },
  "language_info": {
   "codemirror_mode": {
    "name": "ipython",
    "version": 3
   },
   "file_extension": ".py",
   "mimetype": "text/x-python",
   "name": "python",
   "nbconvert_exporter": "python",
   "pygments_lexer": "ipython3",
   "version": "3.13.2"
  }
 },
 "nbformat": 4,
 "nbformat_minor": 5
}
