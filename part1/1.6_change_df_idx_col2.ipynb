{
 "cells": [
  {
   "cell_type": "code",
   "execution_count": 1,
   "id": "f349b3b6",
   "metadata": {},
   "outputs": [],
   "source": [
    "import pandas as pd"
   ]
  },
  {
   "cell_type": "markdown",
   "id": "93641858",
   "metadata": {},
   "source": [
    "# 행 인덱스/열 이름 지정하여 데이터프레임 만들기"
   ]
  },
  {
   "cell_type": "code",
   "execution_count": 3,
   "id": "76173c8f",
   "metadata": {},
   "outputs": [],
   "source": [
    "df = pd.DataFrame([[15, '남', '덕영중'],[17, '여', '수리중']],\n",
    "                  index=['준석', '예은'],\n",
    "                  columns=['나이', '성별', '학교'])\n",
    "\n"
   ]
  },
  {
   "cell_type": "markdown",
   "id": "8da5e24d",
   "metadata": {},
   "source": [
    "# 행, 인덱스, 열 이름 확인하기"
   ]
  },
  {
   "cell_type": "code",
   "execution_count": 4,
   "id": "ed1e9760",
   "metadata": {},
   "outputs": [
    {
     "name": "stdout",
     "output_type": "stream",
     "text": [
      "    나이 성별   학교\n",
      "준석  15  남  덕영중\n",
      "예은  17  여  수리중\n"
     ]
    }
   ],
   "source": [
    "print(df)"
   ]
  },
  {
   "cell_type": "markdown",
   "id": "06391aa6",
   "metadata": {},
   "source": [
    "# 행 인덱스/열 이름 변경"
   ]
  },
  {
   "cell_type": "code",
   "execution_count": 5,
   "id": "a2f519a6",
   "metadata": {},
   "outputs": [],
   "source": [
    "df = df.rename(columns={'나이': '연령', '성별': '남녀', '학교': '소속'})"
   ]
  },
  {
   "cell_type": "markdown",
   "id": "26bed745",
   "metadata": {},
   "source": [
    "# df 출력(변경 후)"
   ]
  },
  {
   "cell_type": "code",
   "execution_count": 6,
   "id": "80396e47",
   "metadata": {},
   "outputs": [
    {
     "name": "stdout",
     "output_type": "stream",
     "text": [
      "    연령 남녀   소속\n",
      "준석  15  남  덕영중\n",
      "예은  17  여  수리중\n"
     ]
    }
   ],
   "source": [
    "print(df)"
   ]
  },
  {
   "cell_type": "markdown",
   "id": "7523bfc1",
   "metadata": {},
   "source": [
    "# df의 행 인덱스 중에서, '준서'를 '학생1'로, '예은'을 '학생2'로 바꾸기"
   ]
  },
  {
   "cell_type": "code",
   "execution_count": 7,
   "id": "c959a631",
   "metadata": {},
   "outputs": [],
   "source": [
    "df = df.rename(index={'준석':'학생1', '예은':'학생2'})"
   ]
  },
  {
   "cell_type": "markdown",
   "id": "a3720119",
   "metadata": {},
   "source": [
    "# df 출력"
   ]
  },
  {
   "cell_type": "code",
   "execution_count": 8,
   "id": "3df55bdf",
   "metadata": {},
   "outputs": [
    {
     "name": "stdout",
     "output_type": "stream",
     "text": [
      "     연령 남녀   소속\n",
      "학생1  15  남  덕영중\n",
      "학생2  17  여  수리중\n"
     ]
    }
   ],
   "source": [
    "print(df)"
   ]
  },
  {
   "cell_type": "code",
   "execution_count": null,
   "id": "038ccd55",
   "metadata": {},
   "outputs": [],
   "source": []
  }
 ],
 "metadata": {
  "kernelspec": {
   "display_name": ".venv",
   "language": "python",
   "name": "python3"
  },
  "language_info": {
   "codemirror_mode": {
    "name": "ipython",
    "version": 3
   },
   "file_extension": ".py",
   "mimetype": "text/x-python",
   "name": "python",
   "nbconvert_exporter": "python",
   "pygments_lexer": "ipython3",
   "version": "3.13.2"
  }
 },
 "nbformat": 4,
 "nbformat_minor": 5
}
